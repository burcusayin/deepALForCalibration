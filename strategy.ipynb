{
 "cells": [
  {
   "cell_type": "code",
   "execution_count": null,
   "id": "f44e4271-c860-4d6d-8072-a4585f9ef5e2",
   "metadata": {},
   "outputs": [],
   "source": [
    "\n",
    "\n",
    "# language detection\n",
    "# NER\n",
    "# scrap email headers (from view)\n",
    "\n",
    "# create breakdown fields"
   ]
  },
  {
   "cell_type": "code",
   "execution_count": null,
   "id": "8412560a-2580-4d43-80df-b49cec43ca27",
   "metadata": {},
   "outputs": [],
   "source": [
    "But how to find interesting terms and NER? they are terms common in a company but whose usage is different than wikipedia\n",
    "\n",
    "those are the enterprise dialect"
   ]
  },
  {
   "cell_type": "code",
   "execution_count": null,
   "id": "56ac5565-7b94-4018-93f0-51399f4a57ee",
   "metadata": {},
   "outputs": [],
   "source": [
    "from IPython.core.debugger import set_trace\n"
   ]
  },
  {
   "cell_type": "code",
   "execution_count": null,
   "id": "de4c88da-7363-4a52-b712-03de534b9dbd",
   "metadata": {},
   "outputs": [],
   "source": [
    "def tag_with_language(df, field):\n",
    "    pass\n",
    "\n"
   ]
  },
  {
   "cell_type": "code",
   "execution_count": null,
   "id": "11901972-6cd5-4f05-9fdb-b7899edadaee",
   "metadata": {},
   "outputs": [],
   "source": [
    "def "
   ]
  }
 ],
 "metadata": {
  "kernelspec": {
   "display_name": "Python 3",
   "language": "python",
   "name": "python3"
  },
  "language_info": {
   "codemirror_mode": {
    "name": "ipython",
    "version": 3
   },
   "file_extension": ".py",
   "mimetype": "text/x-python",
   "name": "python",
   "nbconvert_exporter": "python",
   "pygments_lexer": "ipython3",
   "version": "3.8.2"
  }
 },
 "nbformat": 4,
 "nbformat_minor": 5
}
